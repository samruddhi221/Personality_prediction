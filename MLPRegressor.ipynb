{
  "nbformat": 4,
  "nbformat_minor": 0,
  "metadata": {
    "colab": {
      "name": "MLPRegressor.ipynb",
      "provenance": [],
      "machine_shape": "hm"
    },
    "kernelspec": {
      "name": "python3",
      "display_name": "Python 3"
    }
  },
  "cells": [
    {
      "cell_type": "code",
      "metadata": {
        "id": "JxvtKg0UvwHN",
        "colab_type": "code",
        "colab": {}
      },
      "source": [
        "from sklearn.tree import DecisionTreeRegressor\n",
        "from sklearn.neighbors import KNeighborsRegressor\n",
        "from sklearn.neural_network import MLPRegressor\n",
        "from sklearn.feature_extraction.text import TfidfVectorizer\n",
        "from sklearn.preprocessing import StandardScaler, MinMaxScaler\n",
        "from sklearn.model_selection import train_test_split, GridSearchCV, learning_curve\n",
        "from sklearn.metrics import r2_score,mean_squared_error\n",
        "import pandas as pd\n",
        "import numpy as np\n",
        "import matplotlib.pyplot as plt\n",
        "import pickle\n",
        "import warnings\n",
        "warnings.filterwarnings(\"ignore\")"
      ],
      "execution_count": 0,
      "outputs": []
    },
    {
      "cell_type": "code",
      "metadata": {
        "id": "-c8otTYHzUxD",
        "colab_type": "code",
        "colab": {}
      },
      "source": [
        "TRAIN_DATA_PATH = '/content/drive/Shared drives/CMPE-255/final_df.csv'\n",
        "TEST_DATA_PATH =  '/content/drive/Shared drives/CMPE-255/fb_status_data.csv'\n",
        "MODEL_PATH = '/content/drive/My Drive/Assignments/255/Project/Models/'"
      ],
      "execution_count": 0,
      "outputs": []
    },
    {
      "cell_type": "code",
      "metadata": {
        "id": "4ShMruEZ1tFM",
        "colab_type": "code",
        "colab": {}
      },
      "source": [
        "df_train = pd.read_csv(TRAIN_DATA_PATH)"
      ],
      "execution_count": 0,
      "outputs": []
    },
    {
      "cell_type": "code",
      "metadata": {
        "id": "CKy0mhHe3PB0",
        "colab_type": "code",
        "colab": {}
      },
      "source": [
        "df_test = pd.read_csv(TEST_DATA_PATH)"
      ],
      "execution_count": 0,
      "outputs": []
    },
    {
      "cell_type": "code",
      "metadata": {
        "id": "fwxNxIs23ria",
        "colab_type": "code",
        "colab": {}
      },
      "source": [
        "#creating train data and labels\n",
        "X = df_train['status_update']\n",
        "y = df_train.drop(['userid','status_update'],axis=1)"
      ],
      "execution_count": 0,
      "outputs": []
    },
    {
      "cell_type": "code",
      "metadata": {
        "id": "eqgwpLpUuK-1",
        "colab_type": "code",
        "colab": {}
      },
      "source": [
        "#creating train data and labels\n",
        "X_test = df_test['STATUS']\n",
        "drop_list = ['#AUTHID', 'STATUS', 'cEXT',\n",
        "       'cNEU', 'cAGR', 'cCON', 'cOPN', 'DATE', 'NETWORKSIZE', 'BETWEENNESS',\n",
        "       'NBETWEENNESS', 'DENSITY', 'BROKERAGE', 'NBROKERAGE', 'TRANSITIVITY']\n",
        "y_test = df_test.drop(drop_list,axis=1)"
      ],
      "execution_count": 0,
      "outputs": []
    },
    {
      "cell_type": "code",
      "metadata": {
        "id": "tEcacW2p3lwl",
        "colab_type": "code",
        "colab": {}
      },
      "source": [
        "X = X.iloc[:50000]"
      ],
      "execution_count": 0,
      "outputs": []
    },
    {
      "cell_type": "code",
      "metadata": {
        "id": "nBVv3v7p3rwb",
        "colab_type": "code",
        "colab": {}
      },
      "source": [
        "y = y.iloc[:50000]"
      ],
      "execution_count": 0,
      "outputs": []
    },
    {
      "cell_type": "code",
      "metadata": {
        "id": "QFNZaM3o6iKb",
        "colab_type": "code",
        "colab": {}
      },
      "source": [
        "#vectorize the training data\n",
        "tfidf = TfidfVectorizer(stop_words='english',strip_accents='ascii')\n",
        "X = tfidf.fit_transform(X.values.astype('U'))"
      ],
      "execution_count": 0,
      "outputs": []
    },
    {
      "cell_type": "code",
      "metadata": {
        "id": "WrALn6Ma7GMg",
        "colab_type": "code",
        "colab": {}
      },
      "source": [
        "traits = ['sOPN', 'sCON', 'sEXT', 'sAGR', 'sNEU']"
      ],
      "execution_count": 0,
      "outputs": []
    },
    {
      "cell_type": "code",
      "metadata": {
        "id": "S6sUyBFm9AAj",
        "colab_type": "code",
        "colab": {
          "base_uri": "https://localhost:8080/",
          "height": 469
        },
        "outputId": "3a59befe-2fba-4432-bc84-d8c9896271bb"
      },
      "source": [
        "R2 = list()\n",
        "MSE = list()\n",
        "for trait in traits:\n",
        "\n",
        "  mlp = MLPRegressor(learning_rate_init=0.0001,activation='relu',\n",
        "                     solver='adam',alpha=0.0001,max_iter=1000,batch_size=1000,\n",
        "                     early_stopping = True,learning_rate = 'adaptive')\n",
        "  mlp.fit(X,y[trait])\n",
        "\n",
        "  y_pred = mlp.predict(X)\n",
        "  r2 = r2_score(y[trait],y_pred)\n",
        "  mse = mean_squared_error(y[trait],y_pred)\n",
        "  R2.append(r2)\n",
        "  MSE.append(mse)\n",
        "\n",
        "  print('Trait ', trait[1], '=> r2_score: ',np.around(r2,decimals=2),' mean_squared_error: ',np.around(mse,decimals=2))\n",
        "  \n",
        "  plt.plot(mlp.loss_curve_,label=trait[1])\n",
        "  leg = plt.legend()\n",
        "  leg.get_frame().set_alpha(0.5)\n",
        "\n",
        "  with open(MODEL_PATH + trait + '_model_mlp.pkl', 'wb') as f:\n",
        "    pickle.dump(mlp, f)\n",
        "    print('Dumped: ', trait)\n",
        "\n",
        "print('\\nOverall R2 Score: ', np.around(np.mean(R2),decimals=2),' Overall MSE: ',np.around(np.mean(MSE),decimals=2))"
      ],
      "execution_count": 21,
      "outputs": [
        {
          "output_type": "stream",
          "text": [
            "Trait  O => r2_score:  0.62  mean_squared_error:  0.17\n",
            "Dumped:  sOPN\n",
            "Trait  C => r2_score:  0.56  mean_squared_error:  0.23\n",
            "Dumped:  sCON\n",
            "Trait  E => r2_score:  0.57  mean_squared_error:  0.22\n",
            "Dumped:  sEXT\n",
            "Trait  A => r2_score:  0.57  mean_squared_error:  0.19\n",
            "Dumped:  sAGR\n",
            "Trait  N => r2_score:  0.53  mean_squared_error:  0.29\n",
            "Dumped:  sNEU\n",
            "\n",
            "Overall R2 Score:  0.57  Overall MSE:  0.22\n"
          ],
          "name": "stdout"
        },
        {
          "output_type": "display_data",
          "data": {
            "image/png": "[encoded data removed]",
            "text/plain": [
              "<Figure size 432x288 with 1 Axes>"
            ]
          },
          "metadata": {
            "tags": [],
            "needs_background": "light"
          }
        }
      ]
    },
    {
      "cell_type": "code",
      "metadata": {
        "id": "RNk-Bn3pk3kt",
        "colab_type": "code",
        "colab": {}
      },
      "source": [
        ""
      ],
      "execution_count": 0,
      "outputs": []
    }
  ]
}