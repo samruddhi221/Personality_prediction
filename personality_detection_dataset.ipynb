{
  "nbformat": 4,
  "nbformat_minor": 0,
  "metadata": {
    "colab": {
      "name": "personality_detection_dataset.ipynb",
      "provenance": [],
      "collapsed_sections": []
    },
    "kernelspec": {
      "name": "python3",
      "display_name": "Python 3"
    },
    "accelerator": "GPU"
  },
  "cells": [
    {
      "cell_type": "code",
      "metadata": {
        "id": "nbJ2hQSg9tT1",
        "colab_type": "code",
        "outputId": "9720ca70-9600-4582-d830-b610a38bd3e8",
        "colab": {
          "base_uri": "https://localhost:8080/",
          "height": 122
        }
      },
      "source": [
        "from google.colab import drive\n",
        "\n",
        "drive.mount('/content/drive', force_remount=False)"
      ],
      "execution_count": 1,
      "outputs": [
        {
          "output_type": "stream",
          "text": [
            "Go to this URL in a browser: https://accounts.google.com/o/oauth2/auth?client_id=947318989803-6bn6qk8qdgf4n4g3pfee6491hc0brc4i.apps.googleusercontent.com&redirect_uri=urn%3aietf%3awg%3aoauth%3a2.0%3aoob&response_type=code&scope=email%20https%3a%2f%2fwww.googleapis.com%2fauth%2fdocs.test%20https%3a%2f%2fwww.googleapis.com%2fauth%2fdrive%20https%3a%2f%2fwww.googleapis.com%2fauth%2fdrive.photos.readonly%20https%3a%2f%2fwww.googleapis.com%2fauth%2fpeopleapi.readonly\n",
            "\n",
            "Enter your authorization code:\n",
            "··········\n",
            "Mounted at /content/drive\n"
          ],
          "name": "stdout"
        }
      ]
    },
    {
      "cell_type": "markdown",
      "metadata": {
        "id": "j9T7koJhj8_6",
        "colab_type": "text"
      },
      "source": [
        "**This notetbook is used to merge datasets from two different sources.** \\\\\n",
        "\n",
        "link for dataset1: https://github.com/jcl132/personality-prediction-from-text/tree/master/data/myPersonality  \\\\\n",
        "\n",
        "link for dataset2: https://github.com/FellinRoberto/PersonalityPrediction/tree/master/dataset \\\\\n",
        "\n",
        "final output files are saved as final_train.csv and final_labels.csv."
      ]
    },
    {
      "cell_type": "code",
      "metadata": {
        "id": "6HTddaqU49jW",
        "colab_type": "code",
        "colab": {}
      },
      "source": [
        "FB_DATA_PATH = \"/content/drive/My Drive/Colab Notebooks/data_personality/IPIP-FFM-data-8Nov2018/fb_status_data.csv\"\n",
        "DATASET2_PATH = \"/content/drive/My Drive/Colab Notebooks/data_personality/IPIP-FFM-data-8Nov2018/dataset/\""
      ],
      "execution_count": 0,
      "outputs": []
    },
    {
      "cell_type": "code",
      "metadata": {
        "id": "xNpbSJYbBkKC",
        "colab_type": "code",
        "colab": {}
      },
      "source": [
        "import pandas as pd\n",
        "import numpy as np\n",
        "from scipy import stats"
      ],
      "execution_count": 0,
      "outputs": []
    },
    {
      "cell_type": "code",
      "metadata": {
        "id": "DwQmo1TDSQ2m",
        "colab_type": "code",
        "outputId": "0533bc83-a3b3-43ac-fabe-522c0522a9a7",
        "colab": {
          "base_uri": "https://localhost:8080/",
          "height": 51
        }
      },
      "source": [
        "fb_status_dataset = pd.read_csv(FB_DATA_PATH, encoding=\"ISO-8859-1\")\n",
        "\n",
        "print(fb_status_dataset.shape)\n",
        "X = fb_status_dataset['STATUS']\n",
        "drop_list = ['#AUTHID', 'STATUS', 'cEXT',\n",
        "       'cNEU', 'cAGR', 'cCON', 'cOPN', 'DATE', 'NETWORKSIZE', 'BETWEENNESS',\n",
        "       'NBETWEENNESS', 'DENSITY', 'BROKERAGE', 'NBROKERAGE', 'TRANSITIVITY']\n",
        "#print(list_)\n",
        "y = fb_status_dataset.drop(drop_list, axis=1)\n",
        "print(type(y), X.shape, y.shape)"
      ],
      "execution_count": 0,
      "outputs": [
        {
          "output_type": "stream",
          "text": [
            "(9917, 20)\n",
            "<class 'pandas.core.frame.DataFrame'> (9917,) (9917, 5)\n"
          ],
          "name": "stdout"
        }
      ]
    },
    {
      "cell_type": "code",
      "metadata": {
        "id": "hdHCE_QqXexf",
        "colab_type": "code",
        "outputId": "f69c55cc-4a63-426a-817d-1df6b3aba3c9",
        "colab": {
          "base_uri": "https://localhost:8080/",
          "height": 272
        }
      },
      "source": [
        "users = fb_status_dataset['#AUTHID'].unique()\n",
        "print(type(users), len(users))\n",
        "print(y.describe)"
      ],
      "execution_count": 0,
      "outputs": [
        {
          "output_type": "stream",
          "text": [
            "<class 'numpy.ndarray'> 250\n",
            "<bound method NDFrame.describe of       sEXT  sNEU  sAGR  sCON  sOPN\n",
            "0     2.65  3.00  3.15  3.25  4.40\n",
            "1     2.65  3.00  3.15  3.25  4.40\n",
            "2     2.65  3.00  3.15  3.25  4.40\n",
            "3     2.65  3.00  3.15  3.25  4.40\n",
            "4     2.65  3.00  3.15  3.25  4.40\n",
            "...    ...   ...   ...   ...   ...\n",
            "9912  2.15  2.15  4.10  2.90  4.60\n",
            "9913  4.05  3.35  3.80  3.95  4.50\n",
            "9914  4.05  3.35  3.80  3.95  4.50\n",
            "9915  1.40  4.05  3.30  3.40  3.95\n",
            "9916  4.25  3.00  3.25  3.50  4.00\n",
            "\n",
            "[9917 rows x 5 columns]>\n"
          ],
          "name": "stdout"
        }
      ]
    },
    {
      "cell_type": "code",
      "metadata": {
        "id": "14ljY22t8dZ-",
        "colab_type": "code",
        "outputId": "6f142dab-0136-4737-b3bc-5694a47f3ed7",
        "colab": {
          "base_uri": "https://localhost:8080/",
          "height": 51
        }
      },
      "source": [
        "users1=pd.read_csv(DATASET2_PATH + 'users_1000.csv', engine='c', encoding=\"ISO-8859-1\")\n",
        "posts1=pd.read_csv(DATASET2_PATH + 'posts_1000.csv', engine='c', encoding=\"ISO-8859-1\")\n",
        "print(users1.shape, posts1.shape)\n",
        "x1 = posts1['status_update']\n",
        "\n",
        "joined_df1= pd.merge(posts1, users1, how='inner', on='userid')\n",
        "cleaned_df1= joined_df1.drop(['date_x','date_y', 'blocks', 'item_level'], axis=1)\n",
        "y1 = cleaned_df1.drop(['userid', 'status_update'], axis=1)\n",
        "\n",
        "print(x1.shape, y1.shape)"
      ],
      "execution_count": 17,
      "outputs": [
        {
          "output_type": "stream",
          "text": [
            "(1000, 9) (138420, 3)\n",
            "(138420,) (138420, 5)\n"
          ],
          "name": "stdout"
        }
      ]
    },
    {
      "cell_type": "code",
      "metadata": {
        "id": "IqLHqCYaU2WS",
        "colab_type": "code",
        "outputId": "361b5259-cd5b-4203-c650-a279ce132dc8",
        "colab": {
          "base_uri": "https://localhost:8080/",
          "height": 51
        }
      },
      "source": [
        "users2=pd.read_csv(DATASET2_PATH + 'users_2000.csv', engine='c', encoding=\"ISO-8859-1\")\n",
        "posts2=pd.read_csv(DATASET2_PATH + 'posts_2000.csv', engine='c', encoding=\"ISO-8859-1\")\n",
        "print(users2.shape, posts2.shape)\n",
        "x2 = posts2['status_update']\n",
        "\n",
        "joined_df2= pd.merge(posts2, users2, how='inner', on='userid')\n",
        "cleaned_df2= joined_df2.drop(['date_x','date_y', 'blocks', 'item_level'], axis=1)\n",
        "y2 = cleaned_df2.drop(['userid', 'status_update'], axis=1)\n",
        "\n",
        "print(x2.shape, y2.shape)"
      ],
      "execution_count": 18,
      "outputs": [
        {
          "output_type": "stream",
          "text": [
            "(2000, 9) (281263, 3)\n",
            "(281263,) (281263, 5)\n"
          ],
          "name": "stdout"
        }
      ]
    },
    {
      "cell_type": "code",
      "metadata": {
        "id": "tWFkB0QDXXez",
        "colab_type": "code",
        "outputId": "31f17a74-5d9b-45ca-9946-9e93e6610063",
        "colab": {
          "base_uri": "https://localhost:8080/",
          "height": 51
        }
      },
      "source": [
        "users3=pd.read_csv(DATASET2_PATH + 'users_2000to3000.csv', engine='c', encoding=\"ISO-8859-1\")\n",
        "posts3=pd.read_csv(DATASET2_PATH + 'posts_2000to3000.csv', engine='c', encoding=\"ISO-8859-1\")\n",
        "print(users3.shape, posts3.shape)\n",
        "x3 = posts3['status_update']\n",
        "\n",
        "joined_df3= pd.merge(posts3, users3, how='inner', on='userid')\n",
        "cleaned_df3= joined_df3.drop(['date_x','date_y', 'blocks', 'item_level'], axis=1)\n",
        "y3 = cleaned_df3.drop(['userid', 'status_update'], axis=1)\n",
        "\n",
        "print(x3.shape, y3.shape)"
      ],
      "execution_count": 19,
      "outputs": [
        {
          "output_type": "stream",
          "text": [
            "(1000, 9) (140554, 3)\n",
            "(140554,) (140554, 5)\n"
          ],
          "name": "stdout"
        }
      ]
    },
    {
      "cell_type": "code",
      "metadata": {
        "id": "86ZUzKscubLN",
        "colab_type": "code",
        "colab": {
          "base_uri": "https://localhost:8080/",
          "height": 34
        },
        "outputId": "906dcf8e-9118-42c8-bb6e-95ce309b49fd"
      },
      "source": [
        "final_df = pd.concat([cleaned_df1, cleaned_df2, cleaned_df3], ignore_index=True, sort=False)\n",
        "print(final_df.shape)"
      ],
      "execution_count": 22,
      "outputs": [
        {
          "output_type": "stream",
          "text": [
            "(560237, 7)\n"
          ],
          "name": "stdout"
        }
      ]
    },
    {
      "cell_type": "code",
      "metadata": {
        "id": "dKZxr3-mu5h5",
        "colab_type": "code",
        "colab": {
          "base_uri": "https://localhost:8080/",
          "height": 204
        },
        "outputId": "70b5a2f6-d70d-41b4-e5a7-6a48b82e0b30"
      },
      "source": [
        "final_df.head()"
      ],
      "execution_count": 24,
      "outputs": [
        {
          "output_type": "execute_result",
          "data": {
            "text/html": [
              "<div>\n",
              "<style scoped>\n",
              "    .dataframe tbody tr th:only-of-type {\n",
              "        vertical-align: middle;\n",
              "    }\n",
              "\n",
              "    .dataframe tbody tr th {\n",
              "        vertical-align: top;\n",
              "    }\n",
              "\n",
              "    .dataframe thead th {\n",
              "        text-align: right;\n",
              "    }\n",
              "</style>\n",
              "<table border=\"1\" class=\"dataframe\">\n",
              "  <thead>\n",
              "    <tr style=\"text-align: right;\">\n",
              "      <th></th>\n",
              "      <th>userid</th>\n",
              "      <th>status_update</th>\n",
              "      <th>sOPN</th>\n",
              "      <th>sCON</th>\n",
              "      <th>sEXT</th>\n",
              "      <th>sAGR</th>\n",
              "      <th>sNEU</th>\n",
              "    </tr>\n",
              "  </thead>\n",
              "  <tbody>\n",
              "    <tr>\n",
              "      <th>0</th>\n",
              "      <td>0000bc16c8cd37af06a426da70817b67</td>\n",
              "      <td>I am in fact that which you would call a rappe...</td>\n",
              "      <td>5.0</td>\n",
              "      <td>2.75</td>\n",
              "      <td>4.0</td>\n",
              "      <td>3.75</td>\n",
              "      <td>2.5</td>\n",
              "    </tr>\n",
              "    <tr>\n",
              "      <th>1</th>\n",
              "      <td>0000bc16c8cd37af06a426da70817b67</td>\n",
              "      <td>Truly there aint no rest for the wicked</td>\n",
              "      <td>5.0</td>\n",
              "      <td>2.75</td>\n",
              "      <td>4.0</td>\n",
              "      <td>3.75</td>\n",
              "      <td>2.5</td>\n",
              "    </tr>\n",
              "    <tr>\n",
              "      <th>2</th>\n",
              "      <td>0000bc16c8cd37af06a426da70817b67</td>\n",
              "      <td>Just another night of the tree and I</td>\n",
              "      <td>5.0</td>\n",
              "      <td>2.75</td>\n",
              "      <td>4.0</td>\n",
              "      <td>3.75</td>\n",
              "      <td>2.5</td>\n",
              "    </tr>\n",
              "    <tr>\n",
              "      <th>3</th>\n",
              "      <td>0000bc16c8cd37af06a426da70817b67</td>\n",
              "      <td>Since I got to college, I've become a master a...</td>\n",
              "      <td>5.0</td>\n",
              "      <td>2.75</td>\n",
              "      <td>4.0</td>\n",
              "      <td>3.75</td>\n",
              "      <td>2.5</td>\n",
              "    </tr>\n",
              "    <tr>\n",
              "      <th>4</th>\n",
              "      <td>0000bc16c8cd37af06a426da70817b67</td>\n",
              "      <td>Rich are poor sunny days are still sunny</td>\n",
              "      <td>5.0</td>\n",
              "      <td>2.75</td>\n",
              "      <td>4.0</td>\n",
              "      <td>3.75</td>\n",
              "      <td>2.5</td>\n",
              "    </tr>\n",
              "  </tbody>\n",
              "</table>\n",
              "</div>"
            ],
            "text/plain": [
              "                             userid  ... sNEU\n",
              "0  0000bc16c8cd37af06a426da70817b67  ...  2.5\n",
              "1  0000bc16c8cd37af06a426da70817b67  ...  2.5\n",
              "2  0000bc16c8cd37af06a426da70817b67  ...  2.5\n",
              "3  0000bc16c8cd37af06a426da70817b67  ...  2.5\n",
              "4  0000bc16c8cd37af06a426da70817b67  ...  2.5\n",
              "\n",
              "[5 rows x 7 columns]"
            ]
          },
          "metadata": {
            "tags": []
          },
          "execution_count": 24
        }
      ]
    },
    {
      "cell_type": "code",
      "metadata": {
        "id": "k7RQahoR8c8J",
        "colab_type": "code",
        "outputId": "9caea651-463c-4a1e-b978-107592870ac4",
        "colab": {
          "base_uri": "https://localhost:8080/",
          "height": 297
        }
      },
      "source": [
        "final_df.describe()"
      ],
      "execution_count": 23,
      "outputs": [
        {
          "output_type": "execute_result",
          "data": {
            "text/html": [
              "<div>\n",
              "<style scoped>\n",
              "    .dataframe tbody tr th:only-of-type {\n",
              "        vertical-align: middle;\n",
              "    }\n",
              "\n",
              "    .dataframe tbody tr th {\n",
              "        vertical-align: top;\n",
              "    }\n",
              "\n",
              "    .dataframe thead th {\n",
              "        text-align: right;\n",
              "    }\n",
              "</style>\n",
              "<table border=\"1\" class=\"dataframe\">\n",
              "  <thead>\n",
              "    <tr style=\"text-align: right;\">\n",
              "      <th></th>\n",
              "      <th>sOPN</th>\n",
              "      <th>sCON</th>\n",
              "      <th>sEXT</th>\n",
              "      <th>sAGR</th>\n",
              "      <th>sNEU</th>\n",
              "    </tr>\n",
              "  </thead>\n",
              "  <tbody>\n",
              "    <tr>\n",
              "      <th>count</th>\n",
              "      <td>560237.000000</td>\n",
              "      <td>560237.000000</td>\n",
              "      <td>560237.000000</td>\n",
              "      <td>560237.000000</td>\n",
              "      <td>560237.000000</td>\n",
              "    </tr>\n",
              "    <tr>\n",
              "      <th>mean</th>\n",
              "      <td>3.880419</td>\n",
              "      <td>3.440283</td>\n",
              "      <td>3.608067</td>\n",
              "      <td>3.558791</td>\n",
              "      <td>2.787866</td>\n",
              "    </tr>\n",
              "    <tr>\n",
              "      <th>std</th>\n",
              "      <td>0.676716</td>\n",
              "      <td>0.746689</td>\n",
              "      <td>0.816896</td>\n",
              "      <td>0.701125</td>\n",
              "      <td>0.804272</td>\n",
              "    </tr>\n",
              "    <tr>\n",
              "      <th>min</th>\n",
              "      <td>1.250000</td>\n",
              "      <td>1.000000</td>\n",
              "      <td>1.000000</td>\n",
              "      <td>1.000000</td>\n",
              "      <td>1.000000</td>\n",
              "    </tr>\n",
              "    <tr>\n",
              "      <th>25%</th>\n",
              "      <td>3.500000</td>\n",
              "      <td>3.000000</td>\n",
              "      <td>3.000000</td>\n",
              "      <td>3.100000</td>\n",
              "      <td>2.250000</td>\n",
              "    </tr>\n",
              "    <tr>\n",
              "      <th>50%</th>\n",
              "      <td>4.000000</td>\n",
              "      <td>3.500000</td>\n",
              "      <td>3.750000</td>\n",
              "      <td>3.600000</td>\n",
              "      <td>2.750000</td>\n",
              "    </tr>\n",
              "    <tr>\n",
              "      <th>75%</th>\n",
              "      <td>4.400000</td>\n",
              "      <td>4.000000</td>\n",
              "      <td>4.250000</td>\n",
              "      <td>4.000000</td>\n",
              "      <td>3.260000</td>\n",
              "    </tr>\n",
              "    <tr>\n",
              "      <th>max</th>\n",
              "      <td>5.000000</td>\n",
              "      <td>5.000000</td>\n",
              "      <td>5.000000</td>\n",
              "      <td>5.000000</td>\n",
              "      <td>5.000000</td>\n",
              "    </tr>\n",
              "  </tbody>\n",
              "</table>\n",
              "</div>"
            ],
            "text/plain": [
              "                sOPN           sCON  ...           sAGR           sNEU\n",
              "count  560237.000000  560237.000000  ...  560237.000000  560237.000000\n",
              "mean        3.880419       3.440283  ...       3.558791       2.787866\n",
              "std         0.676716       0.746689  ...       0.701125       0.804272\n",
              "min         1.250000       1.000000  ...       1.000000       1.000000\n",
              "25%         3.500000       3.000000  ...       3.100000       2.250000\n",
              "50%         4.000000       3.500000  ...       3.600000       2.750000\n",
              "75%         4.400000       4.000000  ...       4.000000       3.260000\n",
              "max         5.000000       5.000000  ...       5.000000       5.000000\n",
              "\n",
              "[8 rows x 5 columns]"
            ]
          },
          "metadata": {
            "tags": []
          },
          "execution_count": 23
        }
      ]
    },
    {
      "cell_type": "code",
      "metadata": {
        "id": "__bec3pnxZBR",
        "colab_type": "code",
        "colab": {
          "base_uri": "https://localhost:8080/",
          "height": 34
        },
        "outputId": "db33693d-1ede-4309-d13b-10e3703e01f8"
      },
      "source": [
        "final_df.dropna()\n",
        "print(final_df.shape)"
      ],
      "execution_count": 27,
      "outputs": [
        {
          "output_type": "stream",
          "text": [
            "(560237, 7)\n"
          ],
          "name": "stdout"
        }
      ]
    },
    {
      "cell_type": "code",
      "metadata": {
        "id": "QZ6i68YXhgPl",
        "colab_type": "code",
        "colab": {}
      },
      "source": [
        "final_df.to_csv(DATASET2_PATH + 'final_df.csv', index=False)"
      ],
      "execution_count": 0,
      "outputs": []
    }
  ]
}