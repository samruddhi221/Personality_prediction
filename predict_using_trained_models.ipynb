{
  "nbformat": 4,
  "nbformat_minor": 0,
  "metadata": {
    "colab": {
      "name": "predict_using_trained_models.ipynb",
      "provenance": [],
      "collapsed_sections": []
    },
    "kernelspec": {
      "name": "python3",
      "display_name": "Python 3"
    }
  },
  "cells": [
    {
      "cell_type": "code",
      "metadata": {
        "id": "AmYgM81MA1kc",
        "colab_type": "code",
        "outputId": "5c95550c-431d-41af-d905-91ecdf1ed228",
        "colab": {
          "base_uri": "https://localhost:8080/",
          "height": 122
        }
      },
      "source": [
        "from google.colab import drive\n",
        "drive.mount('/content/drive', force_remount=True)"
      ],
      "execution_count": 4,
      "outputs": [
        {
          "output_type": "stream",
          "text": [
            "Go to this URL in a browser: https://accounts.google.com/o/oauth2/auth?client_id=947318989803-6bn6qk8qdgf4n4g3pfee6491hc0brc4i.apps.googleusercontent.com&redirect_uri=urn%3aietf%3awg%3aoauth%3a2.0%3aoob&response_type=code&scope=email%20https%3a%2f%2fwww.googleapis.com%2fauth%2fdocs.test%20https%3a%2f%2fwww.googleapis.com%2fauth%2fdrive%20https%3a%2f%2fwww.googleapis.com%2fauth%2fdrive.photos.readonly%20https%3a%2f%2fwww.googleapis.com%2fauth%2fpeopleapi.readonly\n",
            "\n",
            "Enter your authorization code:\n",
            "··········\n",
            "Mounted at /content/drive\n"
          ],
          "name": "stdout"
        }
      ]
    },
    {
      "cell_type": "code",
      "metadata": {
        "id": "XlF4o-AFcmvb",
        "colab_type": "code",
        "colab": {}
      },
      "source": [
        "import pandas as pd\n",
        "import numpy as np\n",
        "\n",
        "import matplotlib.pyplot as plt\n",
        "import seaborn as sns\n",
        "\n",
        "from sklearn.feature_extraction.text import TfidfVectorizer\n",
        "from sklearn.preprocessing import MinMaxScaler\n",
        "\n",
        "import lightgbm as lgb\n",
        "\n",
        "from sklearn.metrics import r2_score, mean_squared_error\n",
        "import pickle"
      ],
      "execution_count": 0,
      "outputs": []
    },
    {
      "cell_type": "code",
      "metadata": {
        "id": "xM306K08c0PY",
        "colab_type": "code",
        "colab": {}
      },
      "source": [
        "MODEL_PATH = \"/content/drive/Shared drives/CMPE-255/Trained Models\"\n",
        "DATASET2_PATH = \"/content/drive/Shared drives/CMPE-255/final_df.csv\"\n",
        "FB_DATA_PATH = \"/content/drive/Shared drives/CMPE-255/fb_status_data.csv\""
      ],
      "execution_count": 0,
      "outputs": []
    },
    {
      "cell_type": "code",
      "metadata": {
        "id": "ITC2vQtnc3zD",
        "colab_type": "code",
        "outputId": "5b1c6649-cf0e-4057-e0c7-7d65922fa676",
        "colab": {
          "base_uri": "https://localhost:8080/",
          "height": 34
        }
      },
      "source": [
        "df = pd.read_csv(DATASET2_PATH, encoding=\"ISO-8859-1\")\n",
        "X_df = df['status_update']\n",
        "y_df = df.drop(['userid', 'status_update'], axis=1)\n",
        "print(X_df.shape, y_df.shape)"
      ],
      "execution_count": 7,
      "outputs": [
        {
          "output_type": "stream",
          "text": [
            "(560237,) (560237, 5)\n"
          ],
          "name": "stdout"
        }
      ]
    },
    {
      "cell_type": "code",
      "metadata": {
        "id": "6XSMrJrnc-gA",
        "colab_type": "code",
        "colab": {}
      },
      "source": [
        "fb_status_dataset = pd.read_csv(FB_DATA_PATH, encoding=\"ISO-8859-1\")\n",
        "X_test = fb_status_dataset['STATUS']\n",
        "drop_list = ['#AUTHID', 'STATUS', 'cEXT',\n",
        "       'cNEU', 'cAGR', 'cCON', 'cOPN', 'DATE', 'NETWORKSIZE', 'BETWEENNESS',\n",
        "       'NBETWEENNESS', 'DENSITY', 'BROKERAGE', 'NBROKERAGE', 'TRANSITIVITY']\n",
        "#print(list_)\n",
        "y_test = fb_status_dataset.drop(drop_list, axis=1)"
      ],
      "execution_count": 0,
      "outputs": []
    },
    {
      "cell_type": "code",
      "metadata": {
        "id": "r_rNTWu8oOrE",
        "colab_type": "code",
        "colab": {}
      },
      "source": [
        "#model 2: Light GBM\n",
        "params = {\n",
        "        'boosting' : 'dart',\n",
        "        'application': 'regression',\n",
        "        'max_depth': 10,\n",
        "        'num_leaves': 100,\n",
        "        'verbosity': -1,\n",
        "        'metric': 'RMSE'}\n",
        "\n",
        "es = lgb.early_stopping(stopping_rounds=10, verbose=True)\n",
        "print_ev = lgb.print_evaluation(period=1, show_stdv=True)\n",
        "#rate_decay = lgb.reset_parameter(learning_rate = lambda current_round: 0.01 * current_round)\n"
      ],
      "execution_count": 0,
      "outputs": []
    },
    {
      "cell_type": "code",
      "metadata": {
        "id": "K6oLE8aEJh2X",
        "colab_type": "code",
        "colab": {}
      },
      "source": [
        "traits = ['sOPN', 'sCON', 'sEXT', 'sAGR', 'sNEU']\n",
        "y_pred = {}\n",
        "y_pred_train = {}\n",
        "tfidf = TfidfVectorizer(stop_words='english', strip_accents='ascii')\n",
        "X = tfidf.fit_transform(X_df.values.astype('U'))\n",
        "X_t = tfidf.transform(X_test.values.astype('U'))"
      ],
      "execution_count": 0,
      "outputs": []
    },
    {
      "cell_type": "code",
      "metadata": {
        "id": "3Z8OyyAWDTMN",
        "colab_type": "code",
        "outputId": "978fcf64-c391-4b9a-e304-3e9ac24b6196",
        "colab": {
          "base_uri": "https://localhost:8080/",
          "height": 34
        }
      },
      "source": [
        "\n",
        "pkl_file = '/content/drive/My Drive/255 Project Personality Prediction/pkl files/Copy of sOPN_model_lgbm.pkl'\n",
        "\n",
        "with open(pkl_file, 'rb') as opn_pkl_model:\n",
        "  lgbm_model = pickle.load(opn_pkl_model)\n",
        "  opn_pkl_model.close()\n",
        "\n",
        "print(lgbm_model)"
      ],
      "execution_count": 11,
      "outputs": [
        {
          "output_type": "stream",
          "text": [
            "<lightgbm.basic.Booster object at 0x7f93ec25b3c8>\n"
          ],
          "name": "stdout"
        }
      ]
    },
    {
      "cell_type": "code",
      "metadata": {
        "id": "gzcoR8gYGwF0",
        "colab_type": "code",
        "colab": {}
      },
      "source": [
        "output_path = '/content/drive/My Drive/255_pred_output'\n",
        "\n",
        "personality_pred = lgbm_model.predict(X_t)"
      ],
      "execution_count": 0,
      "outputs": []
    },
    {
      "cell_type": "code",
      "metadata": {
        "id": "vUUdQ5pmWtvU",
        "colab_type": "code",
        "outputId": "5b31910e-4899-43d1-ff3b-f9ae8e4418a7",
        "colab": {
          "base_uri": "https://localhost:8080/",
          "height": 51
        }
      },
      "source": [
        "personality_pred[:10]\n"
      ],
      "execution_count": 13,
      "outputs": [
        {
          "output_type": "execute_result",
          "data": {
            "text/plain": [
              "array([3.88121692, 3.88121692, 3.88121692, 3.88121692, 3.88121692,\n",
              "       3.88121692, 3.88121692, 3.88121692, 3.88121692, 3.88121692])"
            ]
          },
          "metadata": {
            "tags": []
          },
          "execution_count": 13
        }
      ]
    },
    {
      "cell_type": "code",
      "metadata": {
        "id": "LOz3TTkwT6NW",
        "colab_type": "code",
        "colab": {}
      },
      "source": [
        "personality_models = ['sCON', 'sEXT', 'sAGR', 'sNEU']\n",
        "\n",
        "base_path = '/content/drive/My Drive/255 Project Personality Prediction/pkl files/'\n",
        "model_name = 'lgbm'\n",
        "preds = np.empty\n",
        "\n",
        "for personality in personality_models:\n",
        "  pkl_file = base_path + 'Copy of ' + personality + '_model_' + model_name + '.pkl'\n",
        "\n",
        "  with open(pkl_file, 'rb') as opn_pkl_model:\n",
        "    lgbm_model = pickle.load(opn_pkl_model)\n",
        "    opn_pkl_model.close()\n",
        "  \n",
        "  preds = lgbm_model.predict(X_t)\n",
        "  personality_pred = np.vstack((personality_pred, preds))"
      ],
      "execution_count": 0,
      "outputs": []
    },
    {
      "cell_type": "code",
      "metadata": {
        "id": "y-PcZQIAZA_9",
        "colab_type": "code",
        "outputId": "a4bf89bc-1404-43db-8372-77a0b62ae560",
        "colab": {
          "base_uri": "https://localhost:8080/",
          "height": 204
        }
      },
      "source": [
        "print(personality_pred.shape)\n",
        "\n",
        "csv_pred = np.transpose(personality_pred)\n",
        "\n",
        "print(csv_pred[:10,:])"
      ],
      "execution_count": 15,
      "outputs": [
        {
          "output_type": "stream",
          "text": [
            "(5, 9917)\n",
            "[[3.88121692 3.43887588 3.60775124 3.55913213 2.78800717]\n",
            " [3.88121692 3.43887588 3.60775124 3.55913213 2.78800717]\n",
            " [3.88121692 3.43887588 3.60775124 3.55913213 2.78800717]\n",
            " [3.88121692 3.44698837 3.60775124 3.55913213 2.78800717]\n",
            " [3.88121692 3.43887588 3.60775124 3.55913213 2.78800717]\n",
            " [3.88121692 3.43887588 3.60775124 3.55913213 2.78800717]\n",
            " [3.88121692 3.45310289 3.60775124 3.55913213 2.78800717]\n",
            " [3.88121692 3.43887588 3.60775124 3.55913213 2.78800717]\n",
            " [3.88121692 3.43887588 3.60775124 3.55913213 2.78800717]\n",
            " [3.88121692 3.43887588 3.60775124 3.55913213 2.78800717]]\n"
          ],
          "name": "stdout"
        }
      ]
    },
    {
      "cell_type": "code",
      "metadata": {
        "id": "MwXbBYuZZh-a",
        "colab_type": "code",
        "outputId": "dd5d584a-49a1-472e-f2ac-5d36444fe836",
        "colab": {
          "base_uri": "https://localhost:8080/",
          "height": 34
        }
      },
      "source": [
        "user_ids = fb_status_dataset['#AUTHID']\n",
        "user_ids = user_ids.to_numpy()\n",
        "print(type(user_ids))\n",
        "user_ids = user_ids.reshape(user_ids.size, 1)\n",
        "user_ids = np.hstack((user_ids, csv_pred))\n",
        "# print(user_ids[:10])\n"
      ],
      "execution_count": 16,
      "outputs": [
        {
          "output_type": "stream",
          "text": [
            "<class 'numpy.ndarray'>\n"
          ],
          "name": "stdout"
        }
      ]
    },
    {
      "cell_type": "code",
      "metadata": {
        "id": "mpoTNkSfcyFi",
        "colab_type": "code",
        "outputId": "405841cc-abcb-49e1-b472-c43464c93803",
        "colab": {
          "base_uri": "https://localhost:8080/",
          "height": 34
        }
      },
      "source": [
        "print(user_ids.shape)"
      ],
      "execution_count": 17,
      "outputs": [
        {
          "output_type": "stream",
          "text": [
            "(9917, 6)\n"
          ],
          "name": "stdout"
        }
      ]
    },
    {
      "cell_type": "code",
      "metadata": {
        "id": "3sB-ymv2eF_M",
        "colab_type": "code",
        "colab": {}
      },
      "source": [
        "users_df = pd.DataFrame(data=user_ids,columns=['UserIds', 'sOPN', 'sCON', 'sEXT', 'sAGR', 'sNEU'])\n"
      ],
      "execution_count": 0,
      "outputs": []
    },
    {
      "cell_type": "code",
      "metadata": {
        "id": "Hdxn5Wzxi-XQ",
        "colab_type": "code",
        "colab": {}
      },
      "source": [
        "users_df.sOPN = pd.to_numeric(users_df.sOPN)\n",
        "\n",
        "users_df.sCON = pd.to_numeric(users_df.sCON)\n",
        "users_df.sEXT = pd.to_numeric(users_df.sEXT)\n",
        "users_df.sAGR = pd.to_numeric(users_df.sAGR)\n",
        "users_df.sNEU = pd.to_numeric(users_df.sNEU)"
      ],
      "execution_count": 0,
      "outputs": []
    },
    {
      "cell_type": "code",
      "metadata": {
        "id": "ldUFkd3dekbg",
        "colab_type": "code",
        "outputId": "bd6b7c08-a7d1-4db2-dedc-89a1ed66f014",
        "colab": {
          "base_uri": "https://localhost:8080/",
          "height": 204
        }
      },
      "source": [
        "users_df.head()"
      ],
      "execution_count": 20,
      "outputs": [
        {
          "output_type": "execute_result",
          "data": {
            "text/html": [
              "<div>\n",
              "<style scoped>\n",
              "    .dataframe tbody tr th:only-of-type {\n",
              "        vertical-align: middle;\n",
              "    }\n",
              "\n",
              "    .dataframe tbody tr th {\n",
              "        vertical-align: top;\n",
              "    }\n",
              "\n",
              "    .dataframe thead th {\n",
              "        text-align: right;\n",
              "    }\n",
              "</style>\n",
              "<table border=\"1\" class=\"dataframe\">\n",
              "  <thead>\n",
              "    <tr style=\"text-align: right;\">\n",
              "      <th></th>\n",
              "      <th>UserIds</th>\n",
              "      <th>sOPN</th>\n",
              "      <th>sCON</th>\n",
              "      <th>sEXT</th>\n",
              "      <th>sAGR</th>\n",
              "      <th>sNEU</th>\n",
              "    </tr>\n",
              "  </thead>\n",
              "  <tbody>\n",
              "    <tr>\n",
              "      <th>0</th>\n",
              "      <td>b7b7764cfa1c523e4e93ab2a79a946c4</td>\n",
              "      <td>3.881217</td>\n",
              "      <td>3.438876</td>\n",
              "      <td>3.607751</td>\n",
              "      <td>3.559132</td>\n",
              "      <td>2.788007</td>\n",
              "    </tr>\n",
              "    <tr>\n",
              "      <th>1</th>\n",
              "      <td>b7b7764cfa1c523e4e93ab2a79a946c4</td>\n",
              "      <td>3.881217</td>\n",
              "      <td>3.438876</td>\n",
              "      <td>3.607751</td>\n",
              "      <td>3.559132</td>\n",
              "      <td>2.788007</td>\n",
              "    </tr>\n",
              "    <tr>\n",
              "      <th>2</th>\n",
              "      <td>b7b7764cfa1c523e4e93ab2a79a946c4</td>\n",
              "      <td>3.881217</td>\n",
              "      <td>3.438876</td>\n",
              "      <td>3.607751</td>\n",
              "      <td>3.559132</td>\n",
              "      <td>2.788007</td>\n",
              "    </tr>\n",
              "    <tr>\n",
              "      <th>3</th>\n",
              "      <td>b7b7764cfa1c523e4e93ab2a79a946c4</td>\n",
              "      <td>3.881217</td>\n",
              "      <td>3.446988</td>\n",
              "      <td>3.607751</td>\n",
              "      <td>3.559132</td>\n",
              "      <td>2.788007</td>\n",
              "    </tr>\n",
              "    <tr>\n",
              "      <th>4</th>\n",
              "      <td>b7b7764cfa1c523e4e93ab2a79a946c4</td>\n",
              "      <td>3.881217</td>\n",
              "      <td>3.438876</td>\n",
              "      <td>3.607751</td>\n",
              "      <td>3.559132</td>\n",
              "      <td>2.788007</td>\n",
              "    </tr>\n",
              "  </tbody>\n",
              "</table>\n",
              "</div>"
            ],
            "text/plain": [
              "                            UserIds      sOPN  ...      sAGR      sNEU\n",
              "0  b7b7764cfa1c523e4e93ab2a79a946c4  3.881217  ...  3.559132  2.788007\n",
              "1  b7b7764cfa1c523e4e93ab2a79a946c4  3.881217  ...  3.559132  2.788007\n",
              "2  b7b7764cfa1c523e4e93ab2a79a946c4  3.881217  ...  3.559132  2.788007\n",
              "3  b7b7764cfa1c523e4e93ab2a79a946c4  3.881217  ...  3.559132  2.788007\n",
              "4  b7b7764cfa1c523e4e93ab2a79a946c4  3.881217  ...  3.559132  2.788007\n",
              "\n",
              "[5 rows x 6 columns]"
            ]
          },
          "metadata": {
            "tags": []
          },
          "execution_count": 20
        }
      ]
    },
    {
      "cell_type": "code",
      "metadata": {
        "id": "DDDmkiYOtg50",
        "colab_type": "code",
        "colab": {
          "base_uri": "https://localhost:8080/",
          "height": 255
        },
        "outputId": "48e09edb-0ab7-4b28-dbab-53d404e0ab6c"
      },
      "source": [
        "print(users_df)"
      ],
      "execution_count": 23,
      "outputs": [
        {
          "output_type": "stream",
          "text": [
            "                               UserIds      sOPN  ...      sAGR      sNEU\n",
            "0     b7b7764cfa1c523e4e93ab2a79a946c4  3.881217  ...  3.559132  2.788007\n",
            "1     b7b7764cfa1c523e4e93ab2a79a946c4  3.881217  ...  3.559132  2.788007\n",
            "2     b7b7764cfa1c523e4e93ab2a79a946c4  3.881217  ...  3.559132  2.788007\n",
            "3     b7b7764cfa1c523e4e93ab2a79a946c4  3.881217  ...  3.559132  2.788007\n",
            "4     b7b7764cfa1c523e4e93ab2a79a946c4  3.881217  ...  3.559132  2.788007\n",
            "...                                ...       ...  ...       ...       ...\n",
            "9912  deb899e426c1a5c66c24eeb0d7df6257  3.881217  ...  3.559132  2.788007\n",
            "9913  ea28a927cb6663480ea33ca917c3c8ba  3.881217  ...  3.559132  2.788007\n",
            "9914  ea28a927cb6663480ea33ca917c3c8ba  3.881217  ...  3.559132  2.788007\n",
            "9915  5532642937eb3497a43e15dbb23a9d2d  3.881217  ...  3.559132  2.788007\n",
            "9916  a286b7286b1247d4a7851709e9f31e1e  3.881217  ...  3.559132  2.788007\n",
            "\n",
            "[9917 rows x 6 columns]\n"
          ],
          "name": "stdout"
        }
      ]
    },
    {
      "cell_type": "code",
      "metadata": {
        "id": "M9RG5vLw4yTd",
        "colab_type": "code",
        "colab": {
          "base_uri": "https://localhost:8080/",
          "height": 153
        },
        "outputId": "51c49196-464f-4f2c-b304-26c4a058dc15"
      },
      "source": [
        "arr1 = users_df.to_numpy()\n",
        "user_ids = arr1[:,:1]\n",
        "user_score = np.array([2.5, 2.5, 2.5, 2.5, 2.5])\n",
        "print(user_score)\n",
        "cosine_sim = []\n",
        "for row in arr1:\n",
        "  comp_row = row[1:]\n",
        "  sim = np.dot(user_score, comp_row)/ (np.linalg.norm(user_score) * np.linalg.norm(comp_row))\n",
        "  \n",
        "  cosine_sim.append(sim)\n",
        "np_cosine = np.array(cosine_sim).reshape(-1,1)\n",
        "\n",
        "\n",
        "sims = np.hstack((user_ids,np_cosine))\n",
        "print(sims)\n",
        "\n"
      ],
      "execution_count": 53,
      "outputs": [
        {
          "output_type": "stream",
          "text": [
            "[2.5 2.5 2.5 2.5 2.5]\n",
            "[['b7b7764cfa1c523e4e93ab2a79a946c4' 0.9945083618400787]\n",
            " ['b7b7764cfa1c523e4e93ab2a79a946c4' 0.9945083618400787]\n",
            " ['b7b7764cfa1c523e4e93ab2a79a946c4' 0.9945083618400787]\n",
            " ...\n",
            " ['ea28a927cb6663480ea33ca917c3c8ba' 0.9945083618400787]\n",
            " ['5532642937eb3497a43e15dbb23a9d2d' 0.9945083618400787]\n",
            " ['a286b7286b1247d4a7851709e9f31e1e' 0.9945083618400787]]\n"
          ],
          "name": "stdout"
        }
      ]
    },
    {
      "cell_type": "code",
      "metadata": {
        "id": "EZIVnfWYeyms",
        "colab_type": "code",
        "outputId": "2381c9f0-4f76-4405-87ff-b5f5fe9d7748",
        "colab": {
          "base_uri": "https://localhost:8080/",
          "height": 235
        }
      },
      "source": [
        "grouped_user_personalities = users_df.groupby('UserIds').mean()\n",
        "grouped_user_personalities.head()"
      ],
      "execution_count": 58,
      "outputs": [
        {
          "output_type": "execute_result",
          "data": {
            "text/html": [
              "<div>\n",
              "<style scoped>\n",
              "    .dataframe tbody tr th:only-of-type {\n",
              "        vertical-align: middle;\n",
              "    }\n",
              "\n",
              "    .dataframe tbody tr th {\n",
              "        vertical-align: top;\n",
              "    }\n",
              "\n",
              "    .dataframe thead th {\n",
              "        text-align: right;\n",
              "    }\n",
              "</style>\n",
              "<table border=\"1\" class=\"dataframe\">\n",
              "  <thead>\n",
              "    <tr style=\"text-align: right;\">\n",
              "      <th></th>\n",
              "      <th>sOPN</th>\n",
              "      <th>sCON</th>\n",
              "      <th>sEXT</th>\n",
              "      <th>sAGR</th>\n",
              "      <th>sNEU</th>\n",
              "    </tr>\n",
              "    <tr>\n",
              "      <th>UserIds</th>\n",
              "      <th></th>\n",
              "      <th></th>\n",
              "      <th></th>\n",
              "      <th></th>\n",
              "      <th></th>\n",
              "    </tr>\n",
              "  </thead>\n",
              "  <tbody>\n",
              "    <tr>\n",
              "      <th>00419a4c96b32cd63b2c7196da761274</th>\n",
              "      <td>3.881217</td>\n",
              "      <td>3.438876</td>\n",
              "      <td>3.607751</td>\n",
              "      <td>3.559132</td>\n",
              "      <td>2.788007</td>\n",
              "    </tr>\n",
              "    <tr>\n",
              "      <th>02c37028a782cfda660c7243e45244bb</th>\n",
              "      <td>3.881217</td>\n",
              "      <td>3.438876</td>\n",
              "      <td>3.607751</td>\n",
              "      <td>3.559132</td>\n",
              "      <td>2.788007</td>\n",
              "    </tr>\n",
              "    <tr>\n",
              "      <th>03133a828cd0cf52e3752813ce5d818f</th>\n",
              "      <td>3.881217</td>\n",
              "      <td>3.445366</td>\n",
              "      <td>3.607751</td>\n",
              "      <td>3.559132</td>\n",
              "      <td>2.788007</td>\n",
              "    </tr>\n",
              "    <tr>\n",
              "      <th>03e6c4eca4269c183fa0e1780f73faba</th>\n",
              "      <td>3.881217</td>\n",
              "      <td>3.434618</td>\n",
              "      <td>3.605389</td>\n",
              "      <td>3.559132</td>\n",
              "      <td>2.785771</td>\n",
              "    </tr>\n",
              "    <tr>\n",
              "      <th>06b055f8e2bca96496514891057913c3</th>\n",
              "      <td>3.881217</td>\n",
              "      <td>3.439129</td>\n",
              "      <td>3.607751</td>\n",
              "      <td>3.559132</td>\n",
              "      <td>2.788007</td>\n",
              "    </tr>\n",
              "  </tbody>\n",
              "</table>\n",
              "</div>"
            ],
            "text/plain": [
              "                                      sOPN      sCON  ...      sAGR      sNEU\n",
              "UserIds                                               ...                    \n",
              "00419a4c96b32cd63b2c7196da761274  3.881217  3.438876  ...  3.559132  2.788007\n",
              "02c37028a782cfda660c7243e45244bb  3.881217  3.438876  ...  3.559132  2.788007\n",
              "03133a828cd0cf52e3752813ce5d818f  3.881217  3.445366  ...  3.559132  2.788007\n",
              "03e6c4eca4269c183fa0e1780f73faba  3.881217  3.434618  ...  3.559132  2.785771\n",
              "06b055f8e2bca96496514891057913c3  3.881217  3.439129  ...  3.559132  2.788007\n",
              "\n",
              "[5 rows x 5 columns]"
            ]
          },
          "metadata": {
            "tags": []
          },
          "execution_count": 58
        }
      ]
    },
    {
      "cell_type": "code",
      "metadata": {
        "id": "xdlb2H_iAgGJ",
        "colab_type": "code",
        "colab": {
          "base_uri": "https://localhost:8080/",
          "height": 289
        },
        "outputId": "95ab21d3-3582-4b70-a9ce-66d3436a3f6a"
      },
      "source": [
        "arr1 = grouped_user_personalities.reset_index().values\n",
        "# print(arr1)\n",
        "# # print(arrr.shape)\n",
        "# # print(arr1[:,:1])\n",
        "# i = 0\n",
        "# for pref in arr1:\n",
        "#   if i == 5:\n",
        "#     break\n",
        "#   i = i + 1\n",
        "#   print(pref)\n",
        "\n",
        "user_ids = arr1[:,:1]\n",
        "user_score = np.array([0.0, 0.0, 0.9, 0.0, 0.0])\n",
        "\n",
        "cosine_sim = []\n",
        "for row in arr1:\n",
        "  comp_row = row[1:]\n",
        "  sim = np.dot(user_score, comp_row)/ (np.linalg.norm(user_score) * np.linalg.norm(comp_row))\n",
        "  \n",
        "  cosine_sim.append(sim)\n",
        "np_cosine = np.array(cosine_sim).reshape(-1,1)\n",
        "\n",
        "\n",
        "sims = np.hstack((arr1,np_cosine))\n",
        "print(sims)\n"
      ],
      "execution_count": 97,
      "outputs": [
        {
          "output_type": "stream",
          "text": [
            "[['00419a4c96b32cd63b2c7196da761274' 3.8812169163216836\n",
            "  3.4388758762390714 ... 3.5591321289967657 2.7880071693110913\n",
            "  0.46442157720627797]\n",
            " ['02c37028a782cfda660c7243e45244bb' 3.8812169163216836\n",
            "  3.4388758762390714 ... 3.5591321289967657 2.7880071693110913\n",
            "  0.46442157720627797]\n",
            " ['03133a828cd0cf52e3752813ce5d818f' 3.8812169163216836 3.445365869480137\n",
            "  ... 3.559132128996766 2.7880071693110913 0.46424974946357345]\n",
            " ...\n",
            " ['fc1c9fb6c64740edcbbf8cfe9dde8b02' 3.8812169163216805 3.440599873907399\n",
            "  ... 3.5591321289967657 2.788007169311091 0.464636854834974]\n",
            " ['fe22087986fdcc65939c793fe0ec90a9' 3.8812169163216823\n",
            "  3.4400524110881507 ... 3.559132128996766 2.7880071693110917\n",
            "  0.4646029067811679]\n",
            " ['fffafe151f07a30a0ede2038a897b680' 3.881216916321682 3.443089188694897\n",
            "  ... 3.559132128996766 2.7880071693110917 0.4643100415671519]]\n"
          ],
          "name": "stdout"
        }
      ]
    },
    {
      "cell_type": "code",
      "metadata": {
        "id": "M0HzgGtACgGi",
        "colab_type": "code",
        "colab": {
          "base_uri": "https://localhost:8080/",
          "height": 204
        },
        "outputId": "736e0463-7ee8-4a87-e16b-c5b863102d84"
      },
      "source": [
        "sims_df = pd.DataFrame(data=sims,columns=['UserIds', 'sOPN', 'sCON', 'sEXT', 'sAGR', 'sNEU', 'similarity_scores'])\n",
        "sims_df.head()"
      ],
      "execution_count": 98,
      "outputs": [
        {
          "output_type": "execute_result",
          "data": {
            "text/html": [
              "<div>\n",
              "<style scoped>\n",
              "    .dataframe tbody tr th:only-of-type {\n",
              "        vertical-align: middle;\n",
              "    }\n",
              "\n",
              "    .dataframe tbody tr th {\n",
              "        vertical-align: top;\n",
              "    }\n",
              "\n",
              "    .dataframe thead th {\n",
              "        text-align: right;\n",
              "    }\n",
              "</style>\n",
              "<table border=\"1\" class=\"dataframe\">\n",
              "  <thead>\n",
              "    <tr style=\"text-align: right;\">\n",
              "      <th></th>\n",
              "      <th>UserIds</th>\n",
              "      <th>sOPN</th>\n",
              "      <th>sCON</th>\n",
              "      <th>sEXT</th>\n",
              "      <th>sAGR</th>\n",
              "      <th>sNEU</th>\n",
              "      <th>similarity_scores</th>\n",
              "    </tr>\n",
              "  </thead>\n",
              "  <tbody>\n",
              "    <tr>\n",
              "      <th>0</th>\n",
              "      <td>00419a4c96b32cd63b2c7196da761274</td>\n",
              "      <td>3.88122</td>\n",
              "      <td>3.43888</td>\n",
              "      <td>3.60775</td>\n",
              "      <td>3.55913</td>\n",
              "      <td>2.78801</td>\n",
              "      <td>0.464422</td>\n",
              "    </tr>\n",
              "    <tr>\n",
              "      <th>1</th>\n",
              "      <td>02c37028a782cfda660c7243e45244bb</td>\n",
              "      <td>3.88122</td>\n",
              "      <td>3.43888</td>\n",
              "      <td>3.60775</td>\n",
              "      <td>3.55913</td>\n",
              "      <td>2.78801</td>\n",
              "      <td>0.464422</td>\n",
              "    </tr>\n",
              "    <tr>\n",
              "      <th>2</th>\n",
              "      <td>03133a828cd0cf52e3752813ce5d818f</td>\n",
              "      <td>3.88122</td>\n",
              "      <td>3.44537</td>\n",
              "      <td>3.60775</td>\n",
              "      <td>3.55913</td>\n",
              "      <td>2.78801</td>\n",
              "      <td>0.46425</td>\n",
              "    </tr>\n",
              "    <tr>\n",
              "      <th>3</th>\n",
              "      <td>03e6c4eca4269c183fa0e1780f73faba</td>\n",
              "      <td>3.88122</td>\n",
              "      <td>3.43462</td>\n",
              "      <td>3.60539</td>\n",
              "      <td>3.55913</td>\n",
              "      <td>2.78577</td>\n",
              "      <td>0.464344</td>\n",
              "    </tr>\n",
              "    <tr>\n",
              "      <th>4</th>\n",
              "      <td>06b055f8e2bca96496514891057913c3</td>\n",
              "      <td>3.88122</td>\n",
              "      <td>3.43913</td>\n",
              "      <td>3.60775</td>\n",
              "      <td>3.55913</td>\n",
              "      <td>2.78801</td>\n",
              "      <td>0.464415</td>\n",
              "    </tr>\n",
              "  </tbody>\n",
              "</table>\n",
              "</div>"
            ],
            "text/plain": [
              "                            UserIds     sOPN  ...     sNEU similarity_scores\n",
              "0  00419a4c96b32cd63b2c7196da761274  3.88122  ...  2.78801          0.464422\n",
              "1  02c37028a782cfda660c7243e45244bb  3.88122  ...  2.78801          0.464422\n",
              "2  03133a828cd0cf52e3752813ce5d818f  3.88122  ...  2.78801           0.46425\n",
              "3  03e6c4eca4269c183fa0e1780f73faba  3.88122  ...  2.78577          0.464344\n",
              "4  06b055f8e2bca96496514891057913c3  3.88122  ...  2.78801          0.464415\n",
              "\n",
              "[5 rows x 7 columns]"
            ]
          },
          "metadata": {
            "tags": []
          },
          "execution_count": 98
        }
      ]
    },
    {
      "cell_type": "code",
      "metadata": {
        "id": "4cGe0TxaD3Bn",
        "colab_type": "code",
        "colab": {}
      },
      "source": [
        "sorted_sims_df = sims_df.sort_values(by=[\"similarity_scores\"], ascending=False)\n"
      ],
      "execution_count": 0,
      "outputs": []
    },
    {
      "cell_type": "code",
      "metadata": {
        "id": "jDO3YuwfKUL_",
        "colab_type": "code",
        "colab": {
          "base_uri": "https://localhost:8080/",
          "height": 527
        },
        "outputId": "bb7ee675-096a-4326-8902-e7ef40ecfd85"
      },
      "source": [
        "  top_ten = sorted_sims_df.iloc[:10]\n",
        "\n",
        "  top_ten.to_numpy()"
      ],
      "execution_count": 100,
      "outputs": [
        {
          "output_type": "execute_result",
          "data": {
            "text/plain": [
              "array([['6810431fc51108130be92d505ea4944b', 3.8812169163216805,\n",
              "        3.4478035102749627, 3.6165415019299827, 3.5591321289967657,\n",
              "        2.788007169311091, 0.4650717711026952],\n",
              "       ['fc1c9fb6c64740edcbbf8cfe9dde8b02', 3.8812169163216805,\n",
              "        3.440599873907399, 3.610336141432862, 3.5591321289967657,\n",
              "        2.788007169311091, 0.464636854834974],\n",
              "       ['325e62f4e7e4f64a03fcf831a8d80bf1', 3.8812169163216836,\n",
              "        3.4388758762390714, 3.609790991619162, 3.5591321289967657,\n",
              "        2.7880071693110913, 0.4646274800909505],\n",
              "       ['530e195e467f673de0917893fbf9299a', 3.8812169163216805,\n",
              "        3.4406174675352337, 3.6102552643777637, 3.559879910922718,\n",
              "        2.787169990487735, 0.464625703131461],\n",
              "       ['b4de950df13c0765018013237c6a1b3d', 3.8812169163216836,\n",
              "        3.4414164945308037, 3.610774129052596, 3.5624971476635534,\n",
              "        2.7856691658591632, 0.4646173682115088],\n",
              "       ['450c787001b004af69428e267c7a4ca1', 3.881216916321679,\n",
              "        3.440926106347942, 3.6097885982163875, 3.5582161399938252,\n",
              "        2.787747925545202, 0.464603607873302],\n",
              "       ['fe22087986fdcc65939c793fe0ec90a9', 3.8812169163216823,\n",
              "        3.4400524110881507, 3.609856117501495, 3.559132128996766,\n",
              "        2.7880071693110917, 0.4646029067811679],\n",
              "       ['85a78b7179d46b27e3f4f3a1468e2a1c', 3.8812169163216788,\n",
              "        3.4407455511653775, 3.6098791448344976, 3.5595527563301137,\n",
              "        2.787536256222952, 0.46458546061907896],\n",
              "       ['5299b573a6caaf4aebfb3cf6bc8acfd8', 3.881216916321681,\n",
              "        3.441259952590126, 3.609871771568235, 3.5591321289967666,\n",
              "        2.7880071693110935, 0.4645725149681945],\n",
              "       ['cd99c28741e42fd9792616d3a4328f17', 3.8809971633238436,\n",
              "        3.4397890795149224, 3.609039220995779, 3.558626036994561,\n",
              "        2.7876556203562832, 0.4645553978464276]], dtype=object)"
            ]
          },
          "metadata": {
            "tags": []
          },
          "execution_count": 100
        }
      ]
    },
    {
      "cell_type": "code",
      "metadata": {
        "id": "Ki-OtTnwkfT_",
        "colab_type": "code",
        "colab": {}
      },
      "source": [
        "grouped_user_personalities.to_csv('/content/drive/My Drive/255_pred_output/personality_predictions.csv')"
      ],
      "execution_count": 0,
      "outputs": []
    }
  ]
}