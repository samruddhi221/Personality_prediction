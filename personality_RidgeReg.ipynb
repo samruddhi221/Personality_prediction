{
  "nbformat": 4,
  "nbformat_minor": 0,
  "metadata": {
    "colab": {
      "name": "personality_RidgeReg.ipynb",
      "provenance": [],
      "collapsed_sections": []
    },
    "kernelspec": {
      "name": "python3",
      "display_name": "Python 3"
    }
  },
  "cells": [
    {
      "cell_type": "code",
      "metadata": {
        "id": "-WeRbe_RlNVU",
        "colab_type": "code",
        "colab": {}
      },
      "source": [
        "import pandas as pd\n",
        "import numpy as np\n",
        "\n",
        "import matplotlib.pyplot as plt\n",
        "import seaborn as sns\n",
        "\n",
        "from sklearn.model_selection import train_test_split\n",
        "from sklearn.feature_extraction.text import TfidfVectorizer\n",
        "from sklearn.preprocessing import MinMaxScaler\n",
        "\n",
        "from sklearn.ensemble import RandomForestRegressor\n",
        "from sklearn.linear_model import LinearRegression, Ridge, ElasticNet\n",
        "\n",
        "from sklearn.metrics import r2_score, mean_squared_error\n",
        "import pickle"
      ],
      "execution_count": 0,
      "outputs": []
    },
    {
      "cell_type": "code",
      "metadata": {
        "id": "tr5NcQKinm6A",
        "colab_type": "code",
        "colab": {}
      },
      "source": [
        "MODEL_PATH = \"/content/drive/My Drive/Colab Notebooks/data_personality/IPIP-FFM-data-8Nov2018/models/\"\n",
        "DATASET2_PATH = \"/content/drive/My Drive/Colab Notebooks/data_personality/IPIP-FFM-data-8Nov2018/dataset/\"\n",
        "FB_DATA_PATH = \"/content/drive/My Drive/Colab Notebooks/data_personality/IPIP-FFM-data-8Nov2018/fb_status_data.csv\""
      ],
      "execution_count": 0,
      "outputs": []
    },
    {
      "cell_type": "code",
      "metadata": {
        "id": "dfoNLD9Ov8so",
        "colab_type": "code",
        "colab": {
          "base_uri": "https://localhost:8080/",
          "height": 34
        },
        "outputId": "fe438f8e-b517-461d-f7a3-b8fb375d5fe9"
      },
      "source": [
        "df = pd.read_csv(DATASET2_PATH + 'final_df.csv', encoding=\"ISO-8859-1\")\n",
        "X_df = df['status_update']\n",
        "y_df = df.drop(['userid', 'status_update'], axis=1)\n",
        "print(X_df.shape, y_df.shape)"
      ],
      "execution_count": 22,
      "outputs": [
        {
          "output_type": "stream",
          "text": [
            "(560237,) (560237, 5)\n"
          ],
          "name": "stdout"
        }
      ]
    },
    {
      "cell_type": "code",
      "metadata": {
        "id": "fsdVJ2-lZIuw",
        "colab_type": "code",
        "colab": {}
      },
      "source": [
        "fb_status_dataset = pd.read_csv(FB_DATA_PATH, encoding=\"ISO-8859-1\")\n",
        "X_test = fb_status_dataset['STATUS']\n",
        "drop_list = ['#AUTHID', 'STATUS', 'cEXT',\n",
        "       'cNEU', 'cAGR', 'cCON', 'cOPN', 'DATE', 'NETWORKSIZE', 'BETWEENNESS',\n",
        "       'NBETWEENNESS', 'DENSITY', 'BROKERAGE', 'NBROKERAGE', 'TRANSITIVITY']\n",
        "#print(list_)\n",
        "y_test = fb_status_dataset.drop(drop_list, axis=1)"
      ],
      "execution_count": 0,
      "outputs": []
    },
    {
      "cell_type": "code",
      "metadata": {
        "id": "DspNu8MyjgOZ",
        "colab_type": "code",
        "colab": {
          "base_uri": "https://localhost:8080/",
          "height": 612
        },
        "outputId": "095d4f06-092c-492e-d39d-0fb3db5c450c"
      },
      "source": [
        "class Model1_rf():\n",
        "    def __init__(self):\n",
        "      #self.lr = LinearRegression(normalize=True)\n",
        "      '''\n",
        "        self.rfr = RandomForestRegressor(bootstrap=True,\n",
        "         max_features='sqrt',\n",
        "         min_samples_leaf=1,\n",
        "         min_samples_split=2,\n",
        "         n_estimators= 200)\n",
        "         '''\n",
        "      self.lr = Ridge(normalize=True)\n",
        "      self.tfidf = TfidfVectorizer(stop_words='english', strip_accents='ascii')\n",
        "\n",
        "    def fit(self, X, y, regression=True):\n",
        "      X = self.tfidf.fit_transform(X.values.astype('U'))\n",
        "      if regression:\n",
        "        self.lr = self.lr.fit(X, y)\n",
        "\n",
        "    def predict(self, X, regression=True):\n",
        "      X = self.tfidf.transform(X.values.astype('U'))\n",
        "      if regression:\n",
        "        return self.lr.predict(X)\n",
        "\n",
        "traits = ['sOPN', 'sCON', 'sEXT', 'sAGR', 'sNEU']\n",
        "model1 = Model1_rf()\n",
        "y_pred = {}\n",
        "y_pred_train = {}\n",
        "for trait in traits:\n",
        "  X_regression, y_regression = X_df, y_df[trait]\n",
        "  print(X_regression.shape)\n",
        "  print('Fitting trait ' + trait + ' regression model...')\n",
        "  model1.fit(X_regression, y_regression, regression=True)\n",
        "  print('Done!')\n",
        "\n",
        "  y_pred[trait] = model1.predict(X_test)\n",
        "  val_score = r2_score(y_test[trait], y_pred[trait])\n",
        "  mse = mean_squared_error(y_test[trait], y_pred[trait])\n",
        "\n",
        "  y_pred_train[trait] = model1.predict(X_df)\n",
        "  val_score_train = r2_score(y_df[trait], y_pred_train[trait])\n",
        "  mse_train = mean_squared_error(y_df[trait], y_pred_train[trait])\n",
        "\n",
        "  print(\"r2_score_test : \", val_score)\n",
        "  print(\"r2_score_train : \", val_score_train)\n",
        "  print(\"MSE_test : \", mse)\n",
        "  print(\"MSE_train : \", mse_train)\n",
        "\n",
        "  with open(MODEL_PATH + 'linreg/' + trait + '_model_lr.pkl', 'wb') as f:\n",
        "            # Write the model to a file.\n",
        "    pickle.dump(model1, f)\n"
      ],
      "execution_count": 30,
      "outputs": [
        {
          "output_type": "stream",
          "text": [
            "(560237,)\n",
            "Fitting trait sOPN regression model...\n",
            "Done!\n",
            "r2_score_test :  -0.19989480641376778\n",
            "r2_score_train :  0.3279534783348973\n",
            "MSE_test :  0.4115361651592359\n",
            "MSE_train :  0.30775934693157614\n",
            "(560237,)\n",
            "Fitting trait sCON regression model...\n",
            "Done!\n",
            "r2_score_test :  -0.04858927333100582\n",
            "r2_score_train :  0.3074224041274837\n",
            "MSE_test :  0.5698366538370702\n",
            "MSE_train :  0.3861424734794879\n",
            "(560237,)\n",
            "Fitting trait sEXT regression model...\n",
            "Done!\n",
            "r2_score_test :  -0.09806560083085714\n",
            "r2_score_train :  0.3128478196509369\n",
            "MSE_test :  0.8074792592907872\n",
            "MSE_train :  0.4585487753644267\n",
            "(560237,)\n",
            "Fitting trait sAGR regression model...\n",
            "Done!\n",
            "r2_score_test :  -0.05847464758990206\n",
            "r2_score_train :  0.3115053220852132\n",
            "MSE_test :  0.4929726343332864\n",
            "MSE_train :  0.3384468719730774\n",
            "(560237,)\n",
            "Fitting trait sNEU regression model...\n",
            "Done!\n",
            "r2_score_test :  -0.1062652683127181\n",
            "r2_score_train :  0.2943586461853236\n",
            "MSE_test :  0.639330726429574\n",
            "MSE_train :  0.4564454885105973\n"
          ],
          "name": "stdout"
        }
      ]
    }
  ]
}